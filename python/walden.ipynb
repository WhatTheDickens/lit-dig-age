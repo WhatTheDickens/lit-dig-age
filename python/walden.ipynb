{
 "cells": [
  {
   "cell_type": "markdown",
   "metadata": {},
   "source": [
    "# Begin by importing nltk, matplotlib\n",
    "\n",
    "Also, tell matplotlib to display right in this notebook."
   ]
  },
  {
   "cell_type": "code",
   "execution_count": 53,
   "metadata": {},
   "outputs": [],
   "source": [
    "import nltk\n",
    "import matplotlib\n",
    "%matplotlib inline"
   ]
  },
  {
   "cell_type": "markdown",
   "metadata": {},
   "source": [
    "# Now let's get the text\n",
    "\n",
    "Thank you, Project Gutenberg!"
   ]
  },
  {
   "cell_type": "code",
   "execution_count": 2,
   "metadata": {},
   "outputs": [],
   "source": [
    "from urllib.request import urlopen"
   ]
  },
  {
   "cell_type": "code",
   "execution_count": 3,
   "metadata": {},
   "outputs": [],
   "source": [
    "my_url = \"https://www.gutenberg.org/files/205/205-0.txt\""
   ]
  },
  {
   "cell_type": "code",
   "execution_count": 4,
   "metadata": {},
   "outputs": [],
   "source": [
    "file = urlopen(my_url)"
   ]
  },
  {
   "cell_type": "code",
   "execution_count": 5,
   "metadata": {},
   "outputs": [],
   "source": [
    "raw = file.read()"
   ]
  },
  {
   "cell_type": "code",
   "execution_count": 6,
   "metadata": {},
   "outputs": [
    {
     "data": {
      "text/plain": [
       "bytes"
      ]
     },
     "execution_count": 6,
     "metadata": {},
     "output_type": "execute_result"
    }
   ],
   "source": [
    "type(raw)"
   ]
  },
  {
   "cell_type": "markdown",
   "metadata": {},
   "source": [
    "# Uh-oh, the text is in bytes. We need a string."
   ]
  },
  {
   "cell_type": "code",
   "execution_count": 7,
   "metadata": {},
   "outputs": [],
   "source": [
    "walden = raw.decode()"
   ]
  },
  {
   "cell_type": "code",
   "execution_count": 8,
   "metadata": {},
   "outputs": [
    {
     "data": {
      "text/plain": [
       "str"
      ]
     },
     "execution_count": 8,
     "metadata": {},
     "output_type": "execute_result"
    }
   ],
   "source": [
    "type(walden)"
   ]
  },
  {
   "cell_type": "markdown",
   "metadata": {},
   "source": [
    "# Tokenize"
   ]
  },
  {
   "cell_type": "code",
   "execution_count": 9,
   "metadata": {},
   "outputs": [],
   "source": [
    "walden_tokens = nltk.word_tokenize(walden)"
   ]
  },
  {
   "cell_type": "code",
   "execution_count": 10,
   "metadata": {},
   "outputs": [
    {
     "data": {
      "text/plain": [
       "list"
      ]
     },
     "execution_count": 10,
     "metadata": {},
     "output_type": "execute_result"
    }
   ],
   "source": [
    "type(walden_tokens)"
   ]
  },
  {
   "cell_type": "code",
   "execution_count": 11,
   "metadata": {},
   "outputs": [
    {
     "data": {
      "text/plain": [
       "'\\ufeff\\r\\nThe Project Gutenberg EBook'"
      ]
     },
     "execution_count": 11,
     "metadata": {},
     "output_type": "execute_result"
    }
   ],
   "source": [
    "walden[:30]"
   ]
  },
  {
   "cell_type": "markdown",
   "metadata": {},
   "source": [
    "# Hmmm, this doesn't look like *Walden*\n",
    "\n",
    "We need to slice the file so we're not including Gutenberg metadata or \"Civil Disobedience.\""
   ]
  },
  {
   "cell_type": "code",
   "execution_count": 12,
   "metadata": {},
   "outputs": [],
   "source": [
    "walden_text = walden_tokens[187:122155]"
   ]
  },
  {
   "cell_type": "code",
   "execution_count": 13,
   "metadata": {},
   "outputs": [
    {
     "data": {
      "text/plain": [
       "['Economy',\n",
       " 'When',\n",
       " 'I',\n",
       " 'wrote',\n",
       " 'the',\n",
       " 'following',\n",
       " 'pages',\n",
       " ',',\n",
       " 'or',\n",
       " 'rather']"
      ]
     },
     "execution_count": 13,
     "metadata": {},
     "output_type": "execute_result"
    }
   ],
   "source": [
    "walden_text[:10]"
   ]
  },
  {
   "cell_type": "code",
   "execution_count": 14,
   "metadata": {},
   "outputs": [
    {
     "data": {
      "text/plain": [
       "['a', 'morning', 'star', '.']"
      ]
     },
     "execution_count": 14,
     "metadata": {},
     "output_type": "execute_result"
    }
   ],
   "source": [
    "walden_text[121964:121968] #121555 - 187 = 121968"
   ]
  },
  {
   "cell_type": "markdown",
   "metadata": {},
   "source": [
    "# Let's create an NLTK book object\n",
    "\n",
    "We'll use this a little farther down."
   ]
  },
  {
   "cell_type": "code",
   "execution_count": 15,
   "metadata": {},
   "outputs": [],
   "source": [
    "walden_nltk_text = nltk.Text(walden_text)"
   ]
  },
  {
   "cell_type": "markdown",
   "metadata": {},
   "source": [
    "# Let's do some text cleaning"
   ]
  },
  {
   "cell_type": "code",
   "execution_count": 16,
   "metadata": {},
   "outputs": [],
   "source": [
    "from nltk.corpus import stopwords"
   ]
  },
  {
   "cell_type": "code",
   "execution_count": 17,
   "metadata": {},
   "outputs": [],
   "source": [
    "mystops = stopwords.words('english')"
   ]
  },
  {
   "cell_type": "code",
   "execution_count": 18,
   "metadata": {},
   "outputs": [],
   "source": [
    "walden_clean = [w for w in walden_text if w not in mystops]"
   ]
  },
  {
   "cell_type": "code",
   "execution_count": 19,
   "metadata": {},
   "outputs": [],
   "source": [
    "walden_clean = [t.lower() for t in walden_clean if t.isalpha()]"
   ]
  },
  {
   "cell_type": "code",
   "execution_count": 20,
   "metadata": {},
   "outputs": [],
   "source": [
    "from nltk.stem import WordNetLemmatizer"
   ]
  },
  {
   "cell_type": "code",
   "execution_count": 21,
   "metadata": {},
   "outputs": [],
   "source": [
    "wordnet_lemmatizer = WordNetLemmatizer()"
   ]
  },
  {
   "cell_type": "code",
   "execution_count": 22,
   "metadata": {},
   "outputs": [],
   "source": [
    "walden_clean = [wordnet_lemmatizer.lemmatize(t) for t in walden_clean]"
   ]
  },
  {
   "cell_type": "markdown",
   "metadata": {},
   "source": [
    "# Let's look at lexical diversity\n",
    "\n",
    "We'll use the full text for this, without removing stop words. We could do the same thing minus the stop words, too. It would yield a slightly different result."
   ]
  },
  {
   "cell_type": "code",
   "execution_count": 59,
   "metadata": {},
   "outputs": [
    {
     "data": {
      "text/plain": [
       "121968"
      ]
     },
     "execution_count": 59,
     "metadata": {},
     "output_type": "execute_result"
    }
   ],
   "source": [
    "len(walden_nltk_text)"
   ]
  },
  {
   "cell_type": "code",
   "execution_count": 60,
   "metadata": {},
   "outputs": [
    {
     "data": {
      "text/plain": [
       "12015"
      ]
     },
     "execution_count": 60,
     "metadata": {},
     "output_type": "execute_result"
    }
   ],
   "source": [
    "len(set(walden_nltk_text))"
   ]
  },
  {
   "cell_type": "code",
   "execution_count": 61,
   "metadata": {},
   "outputs": [],
   "source": [
    "walden_diversity = (len(set(walden_nltk_text))) / (len(walden_nltk_text)) "
   ]
  },
  {
   "cell_type": "code",
   "execution_count": 57,
   "metadata": {},
   "outputs": [
    {
     "data": {
      "text/plain": [
       "0.09850944510035418"
      ]
     },
     "execution_count": 57,
     "metadata": {},
     "output_type": "execute_result"
    }
   ],
   "source": [
    "walden_diversity"
   ]
  },
  {
   "cell_type": "markdown",
   "metadata": {},
   "source": [
    "# Let's look at our lemmatized list of *Walden* words\n",
    "\n",
    "Minus the stop words, that is."
   ]
  },
  {
   "cell_type": "code",
   "execution_count": 62,
   "metadata": {},
   "outputs": [
    {
     "data": {
      "text/plain": [
       "['a',\n",
       " 'ab',\n",
       " 'abandon',\n",
       " 'abandoned',\n",
       " 'abandonment',\n",
       " 'abdomen',\n",
       " 'abelard',\n",
       " 'abetted',\n",
       " 'ability',\n",
       " 'abject',\n",
       " 'able',\n",
       " 'aboard',\n",
       " 'abode',\n",
       " 'aboriginal',\n",
       " 'aborigine',\n",
       " 'abounded',\n",
       " 'about',\n",
       " 'above',\n",
       " 'abroad',\n",
       " 'abrupt',\n",
       " 'abruptly',\n",
       " 'absence',\n",
       " 'absent',\n",
       " 'absolute',\n",
       " 'absolutely',\n",
       " 'absorb',\n",
       " 'absorbed',\n",
       " 'absorbing',\n",
       " 'abstain',\n",
       " 'abstemiousness',\n",
       " 'abstinence',\n",
       " 'abstract',\n",
       " 'abstraction',\n",
       " 'abundance',\n",
       " 'abundant',\n",
       " 'abutment',\n",
       " 'abuts',\n",
       " 'abutted',\n",
       " 'acanthus',\n",
       " 'accent',\n",
       " 'accented',\n",
       " 'accept',\n",
       " 'accepted',\n",
       " 'access',\n",
       " 'accessible',\n",
       " 'accident',\n",
       " 'accidental',\n",
       " 'accidentally',\n",
       " 'accompanied',\n",
       " 'accompaniment',\n",
       " 'accompany',\n",
       " 'accomplish',\n",
       " 'accomplished',\n",
       " 'accomplishing',\n",
       " 'accomplishment',\n",
       " 'according',\n",
       " 'accordingly',\n",
       " 'account',\n",
       " 'accounted',\n",
       " 'accumulate',\n",
       " 'accumulated',\n",
       " 'accumulating',\n",
       " 'accuracy',\n",
       " 'accurately',\n",
       " 'accursed',\n",
       " 'accustomed',\n",
       " 'acheron',\n",
       " 'achillean',\n",
       " 'achilles',\n",
       " 'acid',\n",
       " 'acknowledged',\n",
       " 'acorn',\n",
       " 'acquaintance',\n",
       " 'acquainted',\n",
       " 'acquire',\n",
       " 'acquired',\n",
       " 'acquires',\n",
       " 'acquiring',\n",
       " 'acre',\n",
       " 'across',\n",
       " 'act',\n",
       " 'acted',\n",
       " 'action',\n",
       " 'active',\n",
       " 'activity',\n",
       " 'acton',\n",
       " 'actor',\n",
       " 'actual',\n",
       " 'actually',\n",
       " 'actuated',\n",
       " 'actæon',\n",
       " 'ad',\n",
       " 'adam',\n",
       " 'adapt',\n",
       " 'adapted',\n",
       " 'add',\n",
       " 'added',\n",
       " 'adding',\n",
       " 'addition',\n",
       " 'additional',\n",
       " 'addito',\n",
       " 'address',\n",
       " 'addressed',\n",
       " 'adelaide',\n",
       " 'adequate',\n",
       " 'adhere',\n",
       " 'adjacent',\n",
       " 'adjoining',\n",
       " 'adjunct',\n",
       " 'admetus',\n",
       " 'administrator',\n",
       " 'admirable',\n",
       " 'admirably',\n",
       " 'admiration',\n",
       " 'admire',\n",
       " 'admired',\n",
       " 'admiring',\n",
       " 'admit',\n",
       " 'admits',\n",
       " 'admittance',\n",
       " 'admitted',\n",
       " 'ado',\n",
       " 'adopt',\n",
       " 'adopted',\n",
       " 'adorn',\n",
       " 'adorned',\n",
       " 'adorns',\n",
       " 'adult',\n",
       " 'advance',\n",
       " 'advanced',\n",
       " 'advantage',\n",
       " 'advent',\n",
       " 'adventure',\n",
       " 'adventurer',\n",
       " 'adventurous',\n",
       " 'adventurously',\n",
       " 'adversary',\n",
       " 'advertised',\n",
       " 'advertisement',\n",
       " 'advice',\n",
       " 'advise',\n",
       " 'advised',\n",
       " 'aerial',\n",
       " 'afar',\n",
       " 'affair',\n",
       " 'affect',\n",
       " 'affected',\n",
       " 'affecting',\n",
       " 'affection',\n",
       " 'affirmed',\n",
       " 'afflicted',\n",
       " 'afford',\n",
       " 'afforded',\n",
       " 'affording',\n",
       " 'affords',\n",
       " 'afoot',\n",
       " 'aforethought',\n",
       " 'afraid',\n",
       " 'africa',\n",
       " 'african',\n",
       " 'africanus',\n",
       " 'after',\n",
       " 'afternoon',\n",
       " 'afterward',\n",
       " 'afterwards',\n",
       " 'again',\n",
       " 'age',\n",
       " 'agent',\n",
       " 'aggregate',\n",
       " 'agitated',\n",
       " 'ago',\n",
       " 'agree',\n",
       " 'agreeable',\n",
       " 'agricultural',\n",
       " 'agriculture',\n",
       " 'aguish',\n",
       " 'ah',\n",
       " 'ahead',\n",
       " 'aid',\n",
       " 'ail',\n",
       " 'ailed',\n",
       " 'ailment',\n",
       " 'aim',\n",
       " 'aiming',\n",
       " 'air',\n",
       " 'airy',\n",
       " 'aisle',\n",
       " 'akin',\n",
       " 'ala',\n",
       " 'alabaster',\n",
       " 'alarm',\n",
       " 'alarmed',\n",
       " 'alarming',\n",
       " 'alburnum',\n",
       " 'aldebaran',\n",
       " 'alder',\n",
       " 'alderman',\n",
       " 'aldermanic',\n",
       " 'alert',\n",
       " 'alexander',\n",
       " 'algonquin',\n",
       " 'alight',\n",
       " 'alighted',\n",
       " 'alike',\n",
       " 'aliment',\n",
       " 'alive',\n",
       " 'alkali',\n",
       " 'all',\n",
       " 'alley',\n",
       " 'allied',\n",
       " 'alligator',\n",
       " 'allow',\n",
       " 'allowance',\n",
       " 'allowed',\n",
       " 'allowing',\n",
       " 'alloy',\n",
       " 'allure',\n",
       " 'alluvion',\n",
       " 'almanac',\n",
       " 'almond',\n",
       " 'almost',\n",
       " 'alms',\n",
       " 'almshouse',\n",
       " 'aloft',\n",
       " 'alone',\n",
       " 'along',\n",
       " 'aloof',\n",
       " 'aloud',\n",
       " 'alphabet',\n",
       " 'already',\n",
       " 'also',\n",
       " 'altair',\n",
       " 'alter',\n",
       " 'altered',\n",
       " 'alternately',\n",
       " 'alternating',\n",
       " 'alternative',\n",
       " 'although',\n",
       " 'altogether',\n",
       " 'always',\n",
       " 'am',\n",
       " 'amateur',\n",
       " 'amazement',\n",
       " 'ambassador',\n",
       " 'amber',\n",
       " 'ambition',\n",
       " 'ambitious',\n",
       " 'ambrosial',\n",
       " 'amends',\n",
       " 'america',\n",
       " 'american',\n",
       " 'amid',\n",
       " 'amidst',\n",
       " 'amnesty',\n",
       " 'amok',\n",
       " 'among',\n",
       " 'amount',\n",
       " 'amounted',\n",
       " 'amphitheatre',\n",
       " 'ample',\n",
       " 'amuse',\n",
       " 'amused',\n",
       " 'amusement',\n",
       " 'an',\n",
       " 'analogy',\n",
       " 'analytic',\n",
       " 'ancestor',\n",
       " 'anchor',\n",
       " 'anchored',\n",
       " 'ancient',\n",
       " 'anciently',\n",
       " 'and',\n",
       " 'andiron',\n",
       " 'anew',\n",
       " 'angel',\n",
       " 'angelo',\n",
       " 'angle',\n",
       " 'angler',\n",
       " 'angrily',\n",
       " 'angry',\n",
       " 'animal',\n",
       " 'animalized',\n",
       " 'animate',\n",
       " 'animated',\n",
       " 'annihilation',\n",
       " 'announces',\n",
       " 'annual',\n",
       " 'annually',\n",
       " 'anon',\n",
       " 'another',\n",
       " 'answer',\n",
       " 'answered',\n",
       " 'answering',\n",
       " 'ant',\n",
       " 'ante',\n",
       " 'anticipate',\n",
       " 'anticipated',\n",
       " 'anticipation',\n",
       " 'antiquary',\n",
       " 'antique',\n",
       " 'antiquity',\n",
       " 'antæus',\n",
       " 'anxiety',\n",
       " 'anxious',\n",
       " 'anxiously',\n",
       " 'any',\n",
       " 'anybody',\n",
       " 'anything',\n",
       " 'anywhere',\n",
       " 'apace',\n",
       " 'apart',\n",
       " 'apartment',\n",
       " 'apex',\n",
       " 'apology',\n",
       " 'apotheosized',\n",
       " 'apparent',\n",
       " 'apparently',\n",
       " 'appeal',\n",
       " 'appear',\n",
       " 'appearance',\n",
       " 'appeared',\n",
       " 'appearing',\n",
       " 'appears',\n",
       " 'appendage',\n",
       " 'appetite',\n",
       " 'apple',\n",
       " 'appliance',\n",
       " 'applicable',\n",
       " 'application',\n",
       " 'apply',\n",
       " 'applying',\n",
       " 'appointed',\n",
       " 'appointment',\n",
       " 'appreciate',\n",
       " 'appreciated',\n",
       " 'appreciates',\n",
       " 'appreciation',\n",
       " 'apprehend',\n",
       " 'apprehending',\n",
       " 'approach',\n",
       " 'approached',\n",
       " 'approaching',\n",
       " 'appropriate',\n",
       " 'appropriated',\n",
       " 'approving',\n",
       " 'approximation',\n",
       " 'april',\n",
       " 'aquæ',\n",
       " 'arab',\n",
       " 'arabia',\n",
       " 'arabian',\n",
       " 'arbitrarily',\n",
       " 'arc',\n",
       " 'arcadia',\n",
       " 'arch',\n",
       " 'arching',\n",
       " 'architect',\n",
       " 'architectural',\n",
       " 'architecture',\n",
       " 'arctic',\n",
       " 'ardor',\n",
       " 'are',\n",
       " 'area',\n",
       " 'argument',\n",
       " 'arises',\n",
       " 'aristocracy',\n",
       " 'arithmetic',\n",
       " 'arm',\n",
       " 'armed',\n",
       " 'armful',\n",
       " 'army',\n",
       " 'arose',\n",
       " 'around',\n",
       " 'aroused',\n",
       " 'arousing',\n",
       " 'arrange',\n",
       " 'arranged',\n",
       " 'arrangement',\n",
       " 'arrival',\n",
       " 'arrive',\n",
       " 'arrived',\n",
       " 'arriving',\n",
       " 'arrivéd',\n",
       " 'arrow',\n",
       " 'arrowhead',\n",
       " 'arrowy',\n",
       " 'art',\n",
       " 'artery',\n",
       " 'arthur',\n",
       " 'article',\n",
       " 'articulation',\n",
       " 'artificer',\n",
       " 'artificial',\n",
       " 'artillery',\n",
       " 'artist',\n",
       " 'artistic',\n",
       " 'as',\n",
       " 'ascend',\n",
       " 'ascertain',\n",
       " 'ascertained',\n",
       " 'ascetic',\n",
       " 'ash',\n",
       " 'ashamed',\n",
       " 'ashore',\n",
       " 'asia',\n",
       " 'asiatic',\n",
       " 'aside',\n",
       " 'ask',\n",
       " 'asked',\n",
       " 'asking',\n",
       " 'asks',\n",
       " 'asleep',\n",
       " 'aspect',\n",
       " 'aspen',\n",
       " 'aspiration',\n",
       " 'aspire',\n",
       " 'aspiring',\n",
       " 'assert',\n",
       " 'asserted',\n",
       " 'asserting',\n",
       " 'asserts',\n",
       " 'assessment',\n",
       " 'assessor',\n",
       " 'assiduously',\n",
       " 'assign',\n",
       " 'assigned',\n",
       " 'assimilated',\n",
       " 'assist',\n",
       " 'assistance',\n",
       " 'assisted',\n",
       " 'associated',\n",
       " 'associating',\n",
       " 'association',\n",
       " 'assuage',\n",
       " 'assuaged',\n",
       " 'assume',\n",
       " 'assumed',\n",
       " 'assurance',\n",
       " 'assure',\n",
       " 'assured',\n",
       " 'assyria',\n",
       " 'astabat',\n",
       " 'astonish',\n",
       " 'astonished',\n",
       " 'astonishing',\n",
       " 'astonishment',\n",
       " 'astor',\n",
       " 'astounding',\n",
       " 'astray',\n",
       " 'astrologically',\n",
       " 'astronomer',\n",
       " 'astronomically',\n",
       " 'astronomy',\n",
       " 'at',\n",
       " 'ate',\n",
       " 'athlete',\n",
       " 'athwart',\n",
       " 'atlantic',\n",
       " 'atlantis',\n",
       " 'atlas',\n",
       " 'atmosphere',\n",
       " 'atmospheric',\n",
       " 'atom',\n",
       " 'atoning',\n",
       " 'attache',\n",
       " 'attached',\n",
       " 'attacked',\n",
       " 'attain',\n",
       " 'attained',\n",
       " 'attaining',\n",
       " 'attempt',\n",
       " 'attempted',\n",
       " 'attend',\n",
       " 'attendance',\n",
       " 'attended',\n",
       " 'attention',\n",
       " 'attitude',\n",
       " 'attorney',\n",
       " 'attract',\n",
       " 'attracted',\n",
       " 'attraction',\n",
       " 'attractive',\n",
       " 'attracts',\n",
       " 'auction',\n",
       " 'audited',\n",
       " 'augean',\n",
       " 'auger',\n",
       " 'august',\n",
       " 'aunt',\n",
       " 'aurora',\n",
       " 'auroral',\n",
       " 'auroram',\n",
       " 'austere',\n",
       " 'austerity',\n",
       " 'austerlitz',\n",
       " 'australian',\n",
       " 'author',\n",
       " 'authority',\n",
       " 'autumn',\n",
       " 'autumnal',\n",
       " 'auxiliary',\n",
       " 'avail',\n",
       " 'available',\n",
       " 'avarice',\n",
       " 'avast',\n",
       " 'avenge',\n",
       " 'avenger',\n",
       " 'avenging',\n",
       " 'avenue',\n",
       " 'average',\n",
       " 'aversion',\n",
       " 'avoid',\n",
       " 'avoided',\n",
       " 'avoiding',\n",
       " 'await',\n",
       " 'awaited',\n",
       " 'awaiting',\n",
       " 'awaits',\n",
       " 'awake',\n",
       " 'awakened',\n",
       " 'awakening',\n",
       " 'awakens',\n",
       " 'awakes',\n",
       " 'aware',\n",
       " 'away',\n",
       " 'awe',\n",
       " 'awed',\n",
       " 'awful',\n",
       " 'awning',\n",
       " 'awoke',\n",
       " 'ax',\n",
       " 'axe',\n",
       " 'axil',\n",
       " 'ay',\n",
       " 'azad',\n",
       " 'azads',\n",
       " 'azure',\n",
       " 'b',\n",
       " 'baboon',\n",
       " 'baby',\n",
       " 'babylon',\n",
       " 'back',\n",
       " 'backing',\n",
       " 'backward',\n",
       " 'bacon',\n",
       " 'bad',\n",
       " 'badge',\n",
       " 'baffin',\n",
       " 'bag',\n",
       " 'bagdad',\n",
       " 'baggage',\n",
       " 'bait',\n",
       " 'baited',\n",
       " 'bake',\n",
       " 'baked',\n",
       " 'baker',\n",
       " 'bakes',\n",
       " 'balance',\n",
       " 'balanced',\n",
       " 'balancing',\n",
       " 'balcom',\n",
       " 'baldest',\n",
       " 'bale',\n",
       " 'balked',\n",
       " 'ball',\n",
       " 'balloon',\n",
       " 'band',\n",
       " 'bandbox',\n",
       " 'banish',\n",
       " 'banished',\n",
       " 'bank',\n",
       " 'bankrupt',\n",
       " 'bankruptcy',\n",
       " 'banner',\n",
       " 'bar',\n",
       " 'barb',\n",
       " 'barbaric',\n",
       " 'barbarous',\n",
       " 'barber',\n",
       " 'barberry',\n",
       " 'bare',\n",
       " 'barefooted',\n",
       " 'bargain',\n",
       " 'bark',\n",
       " 'barked',\n",
       " 'barking',\n",
       " 'barn',\n",
       " 'barred',\n",
       " 'barrel',\n",
       " 'barter',\n",
       " 'bartram',\n",
       " 'bascom',\n",
       " 'base',\n",
       " 'basin',\n",
       " 'basis',\n",
       " 'basket',\n",
       " 'bass',\n",
       " 'bath',\n",
       " 'bathe',\n",
       " 'bathed',\n",
       " 'bather',\n",
       " 'bathing',\n",
       " 'battering',\n",
       " 'battle',\n",
       " 'bawbles',\n",
       " 'bay',\n",
       " 'baying',\n",
       " 'bayou',\n",
       " 'be',\n",
       " 'beach',\n",
       " 'beacon',\n",
       " 'bead',\n",
       " 'beam',\n",
       " 'bean',\n",
       " 'bear',\n",
       " 'beard',\n",
       " 'bearer',\n",
       " 'bearing',\n",
       " 'beast',\n",
       " 'beastly',\n",
       " 'beat',\n",
       " 'beaten',\n",
       " 'beautiful',\n",
       " 'beautifully',\n",
       " 'beauty',\n",
       " 'became',\n",
       " 'because',\n",
       " 'become',\n",
       " 'becomes',\n",
       " 'becoming',\n",
       " 'bed',\n",
       " 'bedded',\n",
       " 'bedford',\n",
       " 'bedstead',\n",
       " 'bee',\n",
       " 'beech',\n",
       " 'beechen',\n",
       " 'beef',\n",
       " 'beet',\n",
       " 'befell',\n",
       " 'before',\n",
       " 'beforehand',\n",
       " 'befriended',\n",
       " 'began',\n",
       " 'beggar',\n",
       " 'beggarly',\n",
       " 'begin',\n",
       " 'beginner',\n",
       " 'beginning',\n",
       " 'begun',\n",
       " 'behave',\n",
       " 'behaved',\n",
       " 'behavior',\n",
       " 'beheld',\n",
       " 'behind',\n",
       " 'behindhand',\n",
       " 'behold',\n",
       " 'beholder',\n",
       " 'beholding',\n",
       " 'beholds',\n",
       " 'behooves',\n",
       " 'being',\n",
       " 'belfry',\n",
       " 'belief',\n",
       " 'belies',\n",
       " 'believe',\n",
       " 'believed',\n",
       " 'bell',\n",
       " 'bella',\n",
       " 'bellow',\n",
       " 'bellowing',\n",
       " 'belly',\n",
       " 'belong',\n",
       " 'belonged',\n",
       " 'belonging',\n",
       " 'belongs',\n",
       " 'beloved',\n",
       " 'belt',\n",
       " 'ben',\n",
       " 'bench',\n",
       " 'bencher',\n",
       " 'bended',\n",
       " 'bending',\n",
       " 'bene',\n",
       " 'beneath',\n",
       " 'benefactor',\n",
       " 'beneficence',\n",
       " 'beneficent',\n",
       " 'benefit',\n",
       " 'benefited',\n",
       " 'benevolence',\n",
       " 'bent',\n",
       " 'benumbeth',\n",
       " 'benvenuto',\n",
       " 'bequeathed',\n",
       " 'berry',\n",
       " 'berrying',\n",
       " 'beseechingly',\n",
       " 'beset',\n",
       " 'beside',\n",
       " 'besides',\n",
       " 'best',\n",
       " 'bestow',\n",
       " 'bestowed',\n",
       " 'bestower',\n",
       " 'bestows',\n",
       " 'betimes',\n",
       " 'betray',\n",
       " 'betrayed',\n",
       " 'betraying',\n",
       " 'betrays',\n",
       " 'better',\n",
       " 'beverage',\n",
       " 'beware',\n",
       " 'bey',\n",
       " 'beyond',\n",
       " 'bhagvat',\n",
       " 'bible',\n",
       " 'biblical',\n",
       " 'bidding',\n",
       " 'biennial',\n",
       " 'big',\n",
       " 'bigger',\n",
       " 'biggest',\n",
       " 'bight',\n",
       " 'bill',\n",
       " 'billow',\n",
       " 'biography',\n",
       " 'biped',\n",
       " 'birch',\n",
       " 'bird',\n",
       " 'birth',\n",
       " 'bison',\n",
       " 'bit',\n",
       " 'bite',\n",
       " 'biting',\n",
       " 'bitter',\n",
       " 'bittern',\n",
       " 'black',\n",
       " 'blackberry',\n",
       " 'blacker',\n",
       " 'blacksmith',\n",
       " 'blade',\n",
       " 'blake',\n",
       " 'blanchard',\n",
       " 'blanched',\n",
       " 'blast',\n",
       " 'blasted',\n",
       " 'bleach',\n",
       " 'bleak',\n",
       " 'bleating',\n",
       " 'bless',\n",
       " 'blessed',\n",
       " 'blessing',\n",
       " 'blew',\n",
       " 'blind',\n",
       " 'blindly',\n",
       " 'blistered',\n",
       " 'bloated',\n",
       " 'block',\n",
       " 'blood',\n",
       " 'bloodsucker',\n",
       " 'bloom',\n",
       " 'blooming',\n",
       " 'blossom',\n",
       " 'blotting',\n",
       " 'blow',\n",
       " 'blowing',\n",
       " 'blown',\n",
       " 'blue',\n",
       " 'blueberry',\n",
       " 'bluebird',\n",
       " 'bluer',\n",
       " 'bluest',\n",
       " 'bluish',\n",
       " 'blunder',\n",
       " 'blundering',\n",
       " 'blunt',\n",
       " 'blush',\n",
       " 'blustering',\n",
       " 'board',\n",
       " 'boarded',\n",
       " 'boarding',\n",
       " 'boast',\n",
       " 'boasting',\n",
       " 'boat',\n",
       " 'bodily',\n",
       " 'body',\n",
       " 'bog',\n",
       " 'bogging',\n",
       " 'boggy',\n",
       " 'boil',\n",
       " 'boiled',\n",
       " 'boiling',\n",
       " 'boisterous',\n",
       " 'bold',\n",
       " 'bolder',\n",
       " 'boldly',\n",
       " 'bole',\n",
       " 'bolster',\n",
       " 'bolt',\n",
       " 'bolted',\n",
       " 'bombay',\n",
       " 'bonaparte',\n",
       " 'bone',\n",
       " 'bonnet',\n",
       " 'bony',\n",
       " 'booby',\n",
       " 'book',\n",
       " 'boom',\n",
       " 'boomed',\n",
       " 'booming',\n",
       " 'boot',\n",
       " 'bopeep',\n",
       " 'border',\n",
       " 'borderer',\n",
       " 'bore',\n",
       " 'bored',\n",
       " 'born',\n",
       " 'borne',\n",
       " 'borrow',\n",
       " 'borrowed',\n",
       " 'borrowing',\n",
       " 'bose',\n",
       " 'bosom',\n",
       " 'boston',\n",
       " 'botanic',\n",
       " 'both',\n",
       " 'bother',\n",
       " 'bottle',\n",
       " 'bottom',\n",
       " 'bottomless',\n",
       " 'bottomlessness',\n",
       " 'bough',\n",
       " 'bought',\n",
       " 'bounce',\n",
       " 'bound',\n",
       " 'boundary',\n",
       " 'bounded',\n",
       " 'bounding',\n",
       " 'boundless',\n",
       " 'bounteous',\n",
       " 'bouquet',\n",
       " 'bout',\n",
       " 'bow',\n",
       " 'bowel',\n",
       " 'bower',\n",
       " 'bowl',\n",
       " 'bowlder',\n",
       " 'box',\n",
       " 'boy',\n",
       " 'boyhood',\n",
       " 'bracing',\n",
       " 'brag',\n",
       " 'brahma',\n",
       " 'brahmin',\n",
       " 'brain',\n",
       " 'brake',\n",
       " 'brakeman',\n",
       " 'bramin',\n",
       " 'bran',\n",
       " 'branch',\n",
       " 'brand',\n",
       " 'brandy',\n",
       " 'brass',\n",
       " 'brat',\n",
       " 'brave',\n",
       " 'bravely',\n",
       " 'bravery',\n",
       " 'brazen',\n",
       " 'bread',\n",
       " 'breadstuff',\n",
       " 'breadth',\n",
       " 'breadthwise',\n",
       " 'break',\n",
       " 'breakfast',\n",
       " 'breaking',\n",
       " 'bream',\n",
       " 'breast',\n",
       " 'breastplate',\n",
       " 'breath',\n",
       " 'breathe',\n",
       " 'breathed',\n",
       " 'breathes',\n",
       " 'breathing',\n",
       " 'bred',\n",
       " 'breech',\n",
       " 'breed',\n",
       " 'breeze',\n",
       " 'brick',\n",
       " 'bridge',\n",
       " 'bridged',\n",
       " 'bright',\n",
       " 'brighten',\n",
       " 'brighter',\n",
       " 'brightly',\n",
       " 'brightness',\n",
       " 'brighton',\n",
       " 'brilliant',\n",
       " 'bring',\n",
       " 'bringing',\n",
       " 'brings',\n",
       " 'brister',\n",
       " 'bristling',\n",
       " 'britain',\n",
       " 'british',\n",
       " 'brittle',\n",
       " 'broad',\n",
       " 'broadcast',\n",
       " 'broader',\n",
       " 'broadest',\n",
       " 'broadway',\n",
       " 'broke',\n",
       " 'broken',\n",
       " 'broker',\n",
       " 'bronze',\n",
       " 'brood',\n",
       " 'brook',\n",
       " 'broom',\n",
       " 'brother',\n",
       " 'brought',\n",
       " 'brow',\n",
       " 'brown',\n",
       " 'browsed',\n",
       " 'browsing',\n",
       " 'brush',\n",
       " 'brushy',\n",
       " 'brutal',\n",
       " 'brute',\n",
       " 'brutish',\n",
       " 'bubble',\n",
       " 'bucket',\n",
       " 'buckled',\n",
       " 'bud',\n",
       " 'budding',\n",
       " 'budget',\n",
       " 'buena',\n",
       " 'buffalo',\n",
       " 'buffet',\n",
       " 'bug',\n",
       " 'bugine',\n",
       " 'build',\n",
       " 'builded',\n",
       " 'builder',\n",
       " 'building',\n",
       " 'built',\n",
       " 'bulk',\n",
       " 'bull',\n",
       " 'bullet',\n",
       " 'bullfrog',\n",
       " 'bulrush',\n",
       " 'bunch',\n",
       " 'bundle',\n",
       " 'bunker',\n",
       " 'buoy',\n",
       " 'buoyancy',\n",
       " 'buoyant',\n",
       " 'bur',\n",
       " 'burden',\n",
       " 'burgoyne',\n",
       " 'buried',\n",
       " 'buries',\n",
       " 'burn',\n",
       " 'burned',\n",
       " 'burning',\n",
       " 'burr',\n",
       " 'burrow',\n",
       " 'burrowing',\n",
       " 'burst',\n",
       " 'bursting',\n",
       " 'bury',\n",
       " 'bush',\n",
       " 'bushel',\n",
       " 'bushy',\n",
       " 'business',\n",
       " 'busk',\n",
       " 'bust',\n",
       " 'bustle',\n",
       " 'bustling',\n",
       " 'busy',\n",
       " 'but',\n",
       " 'butcher',\n",
       " 'butt',\n",
       " 'butter',\n",
       " 'butterfly',\n",
       " 'buttermilk',\n",
       " 'buttonwood',\n",
       " 'buttrick',\n",
       " 'buy',\n",
       " 'buying',\n",
       " 'buzzing',\n",
       " 'by',\n",
       " 'cabin',\n",
       " 'cable',\n",
       " 'cackle',\n",
       " 'cackling',\n",
       " 'cadaverous',\n",
       " 'cadis',\n",
       " 'caged',\n",
       " 'cake',\n",
       " ...]"
      ]
     },
     "execution_count": 62,
     "metadata": {},
     "output_type": "execute_result"
    }
   ],
   "source": [
    "sorted(set(walden_clean))"
   ]
  },
  {
   "cell_type": "markdown",
   "metadata": {},
   "source": [
    "# Let's look at some words in context\n",
    "\n",
    "If we used the cleaned text for this we'd have missing words on either side."
   ]
  },
  {
   "cell_type": "code",
   "execution_count": 63,
   "metadata": {},
   "outputs": [
    {
     "name": "stdout",
     "output_type": "stream",
     "text": [
      "Displaying 25 of 94 matches:\n",
      "pproving that our bodies of a stony nature are. ” So much for a blind obedienc\n",
      "f him . The finest qualities of our nature , like the bloom on fruits , can be\n",
      "g the same one at the same moment ! Nature and human life are as various as ou\n",
      "s as we honestly bestow elsewhere . Nature is as well adapted to our weakness \n",
      " and dogs acquiring the same second nature . By proper Shelter and Clothing we\n",
      "akes families run out ? What is the nature of the luxury which enervates and d\n",
      "ept , but inseparable from its very nature . I would gladly tell all that I kn\n",
      "e dawn merely , but , if possible , Nature herself ! How many mornings , summe\n",
      "lmost entirely of such materials as Nature furnished ready to their hands . Go\n",
      "y left him still but a sojourner in nature . When he was refreshed with food a\n",
      ", a cellar , a garret , have in the nature of man , and perchance never raisin\n",
      "o retreat behind some curtain which nature has provided , than to add a single\n",
      "t us first be as simple and well as Nature ourselves , dispel the clouds which\n",
      "ng always flourishing ; and of this nature are the azads , or religious indepe\n",
      "ooming virtues flourish , Degradeth nature , and benumbeth sense , And , Gorgo\n",
      "ty , and I may say innocence , with Nature herself . I have been as sincere a \n",
      "us spend one day as deliberately as Nature , and not be thrown off the track b\n",
      "and observers , for certainly their nature and destiny are interesting to all \n",
      "ve . We might as well omit to study Nature because she is old . To read well ,\n",
      " I tasted them out of compliment to Nature , though they were scarcely palatab\n",
      " ’ s fields , then the elements and Nature herself would cheerfully accompany \n",
      " were at length one articulation of Nature . Regularly at half past seven , in\n",
      "of the variety and capacity of that nature which is our common dwelling . _Oh-\n",
      "ncy it the most melancholy sound in Nature , as if she meant by this to stereo\n",
      ", suggesting a vast and undeveloped nature which men have not recognized . The\n"
     ]
    }
   ],
   "source": [
    "walden_nltk_text.concordance(\"nature\")"
   ]
  },
  {
   "cell_type": "code",
   "execution_count": 28,
   "metadata": {},
   "outputs": [
    {
     "name": "stdout",
     "output_type": "stream",
     "text": [
      "see have know make be live made get hear in had at not do eat with yet\n",
      "let by call\n"
     ]
    }
   ],
   "source": [
    "walden_nltk_text.similar(\"read\")"
   ]
  },
  {
   "cell_type": "markdown",
   "metadata": {},
   "source": [
    "# Let's do some counting"
   ]
  },
  {
   "cell_type": "code",
   "execution_count": 29,
   "metadata": {},
   "outputs": [
    {
     "data": {
      "text/plain": [
       "28"
      ]
     },
     "execution_count": 29,
     "metadata": {},
     "output_type": "execute_result"
    }
   ],
   "source": [
    "walden_nltk_text.count(\"nature\")"
   ]
  },
  {
   "cell_type": "markdown",
   "metadata": {},
   "source": [
    "# Hmmm, that seems kind of low.\n",
    "\n",
    "What if we look at *Nature* as well?"
   ]
  },
  {
   "cell_type": "code",
   "execution_count": 32,
   "metadata": {},
   "outputs": [
    {
     "data": {
      "text/plain": [
       "66"
      ]
     },
     "execution_count": 32,
     "metadata": {},
     "output_type": "execute_result"
    }
   ],
   "source": [
    "walden_nltk_text.count(\"Nature\")"
   ]
  },
  {
   "cell_type": "markdown",
   "metadata": {},
   "source": [
    "# Better make everything lower case again"
   ]
  },
  {
   "cell_type": "code",
   "execution_count": 33,
   "metadata": {},
   "outputs": [],
   "source": [
    "walden_nltk_nocase = [t.lower() for t in walden_nltk_text if t.isalpha()]"
   ]
  },
  {
   "cell_type": "code",
   "execution_count": 35,
   "metadata": {},
   "outputs": [
    {
     "data": {
      "text/plain": [
       "94"
      ]
     },
     "execution_count": 35,
     "metadata": {},
     "output_type": "execute_result"
    }
   ],
   "source": [
    "walden_nltk_nocase.count(\"nature\")"
   ]
  },
  {
   "cell_type": "markdown",
   "metadata": {},
   "source": [
    "# That's better\n",
    "\n",
    "28 + 66 = 94\n",
    "\n",
    "# Let's plot a frequency distribution"
   ]
  },
  {
   "cell_type": "code",
   "execution_count": 64,
   "metadata": {},
   "outputs": [],
   "source": [
    "from nltk import FreqDist"
   ]
  },
  {
   "cell_type": "code",
   "execution_count": 65,
   "metadata": {},
   "outputs": [],
   "source": [
    "walden_dist = FreqDist(walden_nltk_nocase)"
   ]
  },
  {
   "cell_type": "code",
   "execution_count": 40,
   "metadata": {},
   "outputs": [
    {
     "data": {
      "image/png": "[encoded data removed]",
      "text/plain": [
       "<Figure size 432x288 with 1 Axes>"
      ]
     },
     "metadata": {
      "needs_background": "light"
     },
     "output_type": "display_data"
    },
    {
     "data": {
      "text/plain": [
       "<matplotlib.axes._subplots.AxesSubplot at 0x111a9afd0>"
      ]
     },
     "execution_count": 40,
     "metadata": {},
     "output_type": "execute_result"
    }
   ],
   "source": [
    "walden_dist.plot(50, cumulative=False)"
   ]
  },
  {
   "cell_type": "markdown",
   "metadata": {},
   "source": [
    "# So *the* is the most frequent word? Duh.\n",
    "\n",
    "Better remove the stopwords again."
   ]
  },
  {
   "cell_type": "code",
   "execution_count": 41,
   "metadata": {},
   "outputs": [],
   "source": [
    "walden_nltk_nocase_stops = [w for w in walden_nltk_nocase if w not in mystops]"
   ]
  },
  {
   "cell_type": "code",
   "execution_count": 42,
   "metadata": {},
   "outputs": [],
   "source": [
    "walden_dist_stops = FreqDist(walden_nltk_nocase_stops)"
   ]
  },
  {
   "cell_type": "code",
   "execution_count": 43,
   "metadata": {},
   "outputs": [
    {
     "data": {
      "image/png": "[encoded data removed]",
      "text/plain": [
       "<Figure size 432x288 with 1 Axes>"
      ]
     },
     "metadata": {
      "needs_background": "light"
     },
     "output_type": "display_data"
    },
    {
     "data": {
      "text/plain": [
       "<matplotlib.axes._subplots.AxesSubplot at 0x11fcea710>"
      ]
     },
     "execution_count": 43,
     "metadata": {},
     "output_type": "execute_result"
    }
   ],
   "source": [
    "walden_dist_stops.plot(50, cumulative=False)"
   ]
  },
  {
   "cell_type": "markdown",
   "metadata": {},
   "source": [
    "# Let's compare the most common words with and without the stops"
   ]
  },
  {
   "cell_type": "code",
   "execution_count": 44,
   "metadata": {},
   "outputs": [
    {
     "data": {
      "text/plain": [
       "[('the', 6822),\n",
       " ('and', 4209),\n",
       " ('of', 3226),\n",
       " ('a', 2779),\n",
       " ('to', 2735),\n",
       " ('in', 1937),\n",
       " ('i', 1798),\n",
       " ('it', 1511),\n",
       " ('that', 1194),\n",
       " ('is', 1176),\n",
       " ('as', 1100),\n",
       " ('not', 957),\n",
       " ('for', 870),\n",
       " ('was', 835),\n",
       " ('or', 814),\n",
       " ('with', 810),\n",
       " ('which', 788),\n",
       " ('my', 724),\n",
       " ('but', 708),\n",
       " ('he', 695),\n",
       " ('on', 674),\n",
       " ('his', 659),\n",
       " ('be', 645),\n",
       " ('by', 640),\n",
       " ('they', 611),\n",
       " ('at', 605),\n",
       " ('have', 601),\n",
       " ('are', 594),\n",
       " ('had', 513),\n",
       " ('this', 502),\n",
       " ('if', 486),\n",
       " ('from', 474),\n",
       " ('one', 473),\n",
       " ('their', 452),\n",
       " ('all', 442),\n",
       " ('we', 441),\n",
       " ('so', 436),\n",
       " ('when', 395),\n",
       " ('were', 374),\n",
       " ('there', 369),\n",
       " ('an', 356),\n",
       " ('its', 351),\n",
       " ('some', 343),\n",
       " ('more', 335),\n",
       " ('who', 334),\n",
       " ('me', 308),\n",
       " ('man', 307),\n",
       " ('would', 306),\n",
       " ('them', 304),\n",
       " ('you', 297)]"
      ]
     },
     "execution_count": 44,
     "metadata": {},
     "output_type": "execute_result"
    }
   ],
   "source": [
    "walden_dist.most_common(50)"
   ]
  },
  {
   "cell_type": "code",
   "execution_count": 45,
   "metadata": {},
   "outputs": [
    {
     "data": {
      "text/plain": [
       "[('one', 473),\n",
       " ('man', 307),\n",
       " ('would', 306),\n",
       " ('like', 285),\n",
       " ('pond', 196),\n",
       " ('men', 196),\n",
       " ('may', 193),\n",
       " ('life', 192),\n",
       " ('house', 182),\n",
       " ('day', 179),\n",
       " ('though', 172),\n",
       " ('water', 171),\n",
       " ('could', 169),\n",
       " ('many', 164),\n",
       " ('time', 164),\n",
       " ('still', 164),\n",
       " ('never', 159),\n",
       " ('even', 159),\n",
       " ('woods', 151),\n",
       " ('much', 142),\n",
       " ('without', 142),\n",
       " ('long', 137),\n",
       " ('yet', 136),\n",
       " ('every', 131),\n",
       " ('made', 130),\n",
       " ('see', 129),\n",
       " ('first', 119),\n",
       " ('new', 119),\n",
       " ('well', 115),\n",
       " ('ice', 115),\n",
       " ('two', 113),\n",
       " ('sometimes', 111),\n",
       " ('little', 110),\n",
       " ('old', 107),\n",
       " ('know', 107),\n",
       " ('us', 104),\n",
       " ('part', 102),\n",
       " ('winter', 102),\n",
       " ('good', 101),\n",
       " ('last', 100),\n",
       " ('far', 100),\n",
       " ('way', 99),\n",
       " ('go', 99),\n",
       " ('heard', 96),\n",
       " ('might', 96),\n",
       " ('nature', 94),\n",
       " ('came', 94),\n",
       " ('world', 93),\n",
       " ('live', 92),\n",
       " ('great', 91)]"
      ]
     },
     "execution_count": 45,
     "metadata": {},
     "output_type": "execute_result"
    }
   ],
   "source": [
    "walden_dist_stops.most_common(50)"
   ]
  },
  {
   "cell_type": "markdown",
   "metadata": {},
   "source": [
    "# We'll go back to our original book object to do some dispersion plots"
   ]
  },
  {
   "cell_type": "code",
   "execution_count": 50,
   "metadata": {},
   "outputs": [
    {
     "data": {
      "image/png": "[encoded data removed]",
      "text/plain": [
       "<Figure size 432x288 with 1 Axes>"
      ]
     },
     "metadata": {
      "needs_background": "light"
     },
     "output_type": "display_data"
    }
   ],
   "source": [
    "walden_nltk_text.dispersion_plot(['man', 'nature'])"
   ]
  },
  {
   "cell_type": "code",
   "execution_count": 172,
   "metadata": {},
   "outputs": [
    {
     "data": {
      "image/png": "[encoded data removed]",
      "text/plain": [
       "<Figure size 432x288 with 1 Axes>"
      ]
     },
     "metadata": {
      "needs_background": "light"
     },
     "output_type": "display_data"
    }
   ],
   "source": [
    "walden_nltk_text.dispersion_plot(['reading', 'nature'])"
   ]
  },
  {
   "cell_type": "code",
   "execution_count": 175,
   "metadata": {},
   "outputs": [
    {
     "data": {
      "image/png": "[encoded data removed]",
      "text/plain": [
       "<Figure size 432x288 with 1 Axes>"
      ]
     },
     "metadata": {
      "needs_background": "light"
     },
     "output_type": "display_data"
    }
   ],
   "source": [
    "walden_nltk_text.dispersion_plot(['word', 'nature'])"
   ]
  },
  {
   "cell_type": "code",
   "execution_count": 176,
   "metadata": {},
   "outputs": [
    {
     "data": {
      "image/png": "[encoded data removed]",
      "text/plain": [
       "<Figure size 432x288 with 1 Axes>"
      ]
     },
     "metadata": {
      "needs_background": "light"
     },
     "output_type": "display_data"
    }
   ],
   "source": [
    "walden_nltk_text.dispersion_plot(['language', 'reading', 'word'])"
   ]
  },
  {
   "cell_type": "code",
   "execution_count": null,
   "metadata": {},
   "outputs": [],
   "source": []
  }
 ],
 "metadata": {
  "kernelspec": {
   "display_name": "Python 3",
   "language": "python",
   "name": "python3"
  },
  "language_info": {
   "codemirror_mode": {
    "name": "ipython",
    "version": 3
   },
   "file_extension": ".py",
   "mimetype": "text/x-python",
   "name": "python",
   "nbconvert_exporter": "python",
   "pygments_lexer": "ipython3",
   "version": "3.7.5"
  }
 },
 "nbformat": 4,
 "nbformat_minor": 2
}
